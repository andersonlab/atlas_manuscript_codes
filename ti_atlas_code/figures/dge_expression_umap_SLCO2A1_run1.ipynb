{
 "cells": [
  {
   "cell_type": "code",
   "execution_count": 4,
   "metadata": {},
   "outputs": [],
   "source": [
    "import argparse\n",
    "import scanpy as sc\n",
    "import plotnine as plt9\n",
    "import pandas as pd\n",
    "import numpy as np\n",
    "import matplotlib as plt\n",
    "import os\n",
    "%load_ext autoreload\n",
    "%autoreload 2\n",
    "import anndata\n",
    "import seaborn as sns\n",
    "import logging\n",
    "import scipy.stats"
   ]
  },
  {
   "cell_type": "code",
   "execution_count": 5,
   "metadata": {},
   "outputs": [],
   "source": [
    "fpath=\"/home/ubuntu/ubuntu/sc_ibd_project/ti_atlas/data/gut-freeze003/ti-cd_healthy/analysis/adata_updated/adata.h5ad\"\n",
    "adata=sc.read(fpath) "
   ]
  },
  {
   "cell_type": "code",
   "execution_count": 3,
   "metadata": {},
   "outputs": [],
   "source": [
    "adata.obsm['X_umap']=adata.obsm['X_umap__n_neighbors=153,n_reduced_dims_input=29,umap_init=spectral,umap_min_dist=1pt0,umap_spread=1pt0']\n",
    "sc.set_figure_params(scanpy=True, dpi=400, dpi_save=400, frameon=True, vector_friendly=True, fontsize=4, figsize=None, color_map=None, format='pdf', facecolor=None, transparent=False, ipython_format='png2x')"
   ]
  },
  {
   "cell_type": "code",
   "execution_count": 4,
   "metadata": {},
   "outputs": [],
   "source": [
    "#adata.obs['cell_type'].replace({'Mac resident IL10RA-': \"Mac 1\", \n",
    "#                                'Mac resident IL10RA+': \"Mac 2\",\n",
    "#                                 'MoMac IL10RA-': \"Mac intermediate 1\",\n",
    "#                                 'MoMac IL10RA+': \"Mac intermediate 2\",\n",
    "#                                 'Dendritic cell': \"DCs\"}, inplace=True)\n"
   ]
  },
  {
   "cell_type": "code",
   "execution_count": 5,
   "metadata": {},
   "outputs": [],
   "source": [
    "#adata.obs['cell_type'].replace({'Monocytes': \"Monocytes\", \n",
    "#                                'Mac resident IL10RA-': \"Mac 1\", \n",
    "#                                'Mac resident IL10RA+': \"Mac 2\",\n",
    "#                                 'MoMac IL10RA-': \"Mac intermediate 1\",\n",
    "#                                 'MoMac IL10RA+': \"Mac intermediate 2\"}, inplace=True)"
   ]
  },
  {
   "cell_type": "code",
   "execution_count": 38,
   "metadata": {},
   "outputs": [
    {
     "data": {
      "text/html": [
       "<div>\n",
       "<style scoped>\n",
       "    .dataframe tbody tr th:only-of-type {\n",
       "        vertical-align: middle;\n",
       "    }\n",
       "\n",
       "    .dataframe tbody tr th {\n",
       "        vertical-align: top;\n",
       "    }\n",
       "\n",
       "    .dataframe thead th {\n",
       "        text-align: right;\n",
       "    }\n",
       "</style>\n",
       "<table border=\"1\" class=\"dataframe\">\n",
       "  <thead>\n",
       "    <tr style=\"text-align: right;\">\n",
       "      <th></th>\n",
       "      <th>UMAP1</th>\n",
       "      <th>UMAP2</th>\n",
       "      <th>celltype_category</th>\n",
       "      <th>celltype_label</th>\n",
       "      <th>SLCO2A1_log1p_cp10k</th>\n",
       "    </tr>\n",
       "  </thead>\n",
       "  <tbody>\n",
       "    <tr>\n",
       "      <th>CAGTGCGTCAGAGCAG-1-5892STDY8039553</th>\n",
       "      <td>11.450295</td>\n",
       "      <td>-6.446522</td>\n",
       "      <td>Stem cells</td>\n",
       "      <td>Stem cell MKI67+ (1)</td>\n",
       "      <td>0.0</td>\n",
       "    </tr>\n",
       "    <tr>\n",
       "      <th>GGGTTTAAGACGAGCT-1-5892STDY8039553</th>\n",
       "      <td>11.133955</td>\n",
       "      <td>-9.013494</td>\n",
       "      <td>Stem cells</td>\n",
       "      <td>Stem cell MKI67+ (1)</td>\n",
       "      <td>0.0</td>\n",
       "    </tr>\n",
       "    <tr>\n",
       "      <th>CATTCTACACTACCGG-1-5892STDY8039553</th>\n",
       "      <td>14.009640</td>\n",
       "      <td>-0.564600</td>\n",
       "      <td>Stem cells</td>\n",
       "      <td>Stem cell MKI67+ (2)</td>\n",
       "      <td>0.0</td>\n",
       "    </tr>\n",
       "    <tr>\n",
       "      <th>CCTCCTCCATAGGTTC-1-5892STDY8039553</th>\n",
       "      <td>10.848400</td>\n",
       "      <td>-7.051911</td>\n",
       "      <td>Stem cells</td>\n",
       "      <td>Stem cell MKI67+ (1)</td>\n",
       "      <td>0.0</td>\n",
       "    </tr>\n",
       "    <tr>\n",
       "      <th>GATGATCCACCCTTAC-1-5892STDY8039553</th>\n",
       "      <td>13.810653</td>\n",
       "      <td>-3.538153</td>\n",
       "      <td>Stem cells</td>\n",
       "      <td>Stem cell MKI67+ (2)</td>\n",
       "      <td>0.0</td>\n",
       "    </tr>\n",
       "    <tr>\n",
       "      <th>...</th>\n",
       "      <td>...</td>\n",
       "      <td>...</td>\n",
       "      <td>...</td>\n",
       "      <td>...</td>\n",
       "      <td>...</td>\n",
       "    </tr>\n",
       "    <tr>\n",
       "      <th>CATTTCATCGTTCATT-1-OTARscRNA9342936</th>\n",
       "      <td>10.959710</td>\n",
       "      <td>12.339205</td>\n",
       "      <td>B Cell</td>\n",
       "      <td>B cell</td>\n",
       "      <td>0.0</td>\n",
       "    </tr>\n",
       "    <tr>\n",
       "      <th>GAGTTACCACTAACCA-1-OTARscRNA9342936</th>\n",
       "      <td>-2.086140</td>\n",
       "      <td>0.662185</td>\n",
       "      <td>T Cell</td>\n",
       "      <td>T cell CD8+ GZMK+</td>\n",
       "      <td>0.0</td>\n",
       "    </tr>\n",
       "    <tr>\n",
       "      <th>ACGGAAGCACTCAAGT-1-OTARscRNA9342936</th>\n",
       "      <td>-2.343098</td>\n",
       "      <td>2.256670</td>\n",
       "      <td>T Cell</td>\n",
       "      <td>T cell CD8+ GZMK+</td>\n",
       "      <td>0.0</td>\n",
       "    </tr>\n",
       "    <tr>\n",
       "      <th>AGACTCACAAGAGATT-1-OTARscRNA9342936</th>\n",
       "      <td>-1.341134</td>\n",
       "      <td>5.566211</td>\n",
       "      <td>T Cell</td>\n",
       "      <td>T cell CD4 naive</td>\n",
       "      <td>0.0</td>\n",
       "    </tr>\n",
       "    <tr>\n",
       "      <th>GTACAGTCAGGTACGA-1-OTARscRNA9342936</th>\n",
       "      <td>-2.669447</td>\n",
       "      <td>5.523351</td>\n",
       "      <td>T Cell</td>\n",
       "      <td>T cell CD4- CD8-</td>\n",
       "      <td>0.0</td>\n",
       "    </tr>\n",
       "  </tbody>\n",
       "</table>\n",
       "<p>141597 rows × 5 columns</p>\n",
       "</div>"
      ],
      "text/plain": [
       "                                         UMAP1      UMAP2 celltype_category  \\\n",
       "CAGTGCGTCAGAGCAG-1-5892STDY8039553   11.450295  -6.446522        Stem cells   \n",
       "GGGTTTAAGACGAGCT-1-5892STDY8039553   11.133955  -9.013494        Stem cells   \n",
       "CATTCTACACTACCGG-1-5892STDY8039553   14.009640  -0.564600        Stem cells   \n",
       "CCTCCTCCATAGGTTC-1-5892STDY8039553   10.848400  -7.051911        Stem cells   \n",
       "GATGATCCACCCTTAC-1-5892STDY8039553   13.810653  -3.538153        Stem cells   \n",
       "...                                        ...        ...               ...   \n",
       "CATTTCATCGTTCATT-1-OTARscRNA9342936  10.959710  12.339205            B Cell   \n",
       "GAGTTACCACTAACCA-1-OTARscRNA9342936  -2.086140   0.662185            T Cell   \n",
       "ACGGAAGCACTCAAGT-1-OTARscRNA9342936  -2.343098   2.256670            T Cell   \n",
       "AGACTCACAAGAGATT-1-OTARscRNA9342936  -1.341134   5.566211            T Cell   \n",
       "GTACAGTCAGGTACGA-1-OTARscRNA9342936  -2.669447   5.523351            T Cell   \n",
       "\n",
       "                                           celltype_label  SLCO2A1_log1p_cp10k  \n",
       "CAGTGCGTCAGAGCAG-1-5892STDY8039553   Stem cell MKI67+ (1)                  0.0  \n",
       "GGGTTTAAGACGAGCT-1-5892STDY8039553   Stem cell MKI67+ (1)                  0.0  \n",
       "CATTCTACACTACCGG-1-5892STDY8039553   Stem cell MKI67+ (2)                  0.0  \n",
       "CCTCCTCCATAGGTTC-1-5892STDY8039553   Stem cell MKI67+ (1)                  0.0  \n",
       "GATGATCCACCCTTAC-1-5892STDY8039553   Stem cell MKI67+ (2)                  0.0  \n",
       "...                                                   ...                  ...  \n",
       "CATTTCATCGTTCATT-1-OTARscRNA9342936                B cell                  0.0  \n",
       "GAGTTACCACTAACCA-1-OTARscRNA9342936     T cell CD8+ GZMK+                  0.0  \n",
       "ACGGAAGCACTCAAGT-1-OTARscRNA9342936     T cell CD8+ GZMK+                  0.0  \n",
       "AGACTCACAAGAGATT-1-OTARscRNA9342936      T cell CD4 naive                  0.0  \n",
       "GTACAGTCAGGTACGA-1-OTARscRNA9342936      T cell CD4- CD8-                  0.0  \n",
       "\n",
       "[141597 rows x 5 columns]"
      ]
     },
     "execution_count": 38,
     "metadata": {},
     "output_type": "execute_result"
    }
   ],
   "source": [
    "df1=pd.DataFrame(adata.obsm['X_umap'], columns=['UMAP1', 'UMAP2'], index=adata.obs_names)\n",
    "df1.loc[:,'celltype_category']= adata.obs['celltype_category'].astype('category')\n",
    "#df1.loc[:,'cell_type']= adata.obs['cell_type'].astype('category')\n",
    "df1.loc[:,'celltype_label']= adata.obs['celltype_label']\n",
    "#palette=plt.rcParams['axes.prop_cycle']\n",
    "df1.loc[:,'SLCO2A1_log1p_cp10k']=np.array(adata[:,adata.var['gene_symbols'].isin(['SLCO2A1'])].layers['log1p_cp10k'].todense())\n",
    "df1"
   ]
  },
  {
   "cell_type": "code",
   "execution_count": 39,
   "metadata": {},
   "outputs": [],
   "source": [
    "df1.to_csv(\"/home/ubuntu/ubuntu/sc_ibd_project/ti_atlas/manuscript/ti_atlas_code/figures/data/umap_gene.csv\", index=False)"
   ]
  },
  {
   "cell_type": "code",
   "execution_count": 8,
   "metadata": {},
   "outputs": [],
   "source": [
    "fpath3=\"/home/ubuntu/ubuntu/sc_ibd_project/ti_atlas/data/gut-freeze003/auto-annot-121/adata/anderson_ti_freeze003_001-MT_100-cohort_Full.h5ad\"\n",
    "adata3=sc.read(fpath3, cache=False) "
   ]
  },
  {
   "cell_type": "code",
   "execution_count": 14,
   "metadata": {},
   "outputs": [],
   "source": [
    "adata_sub=adata[adata.obs['celltype_category'].isin([\"Stem cells\", \"Enterocyte\", \"Secretory\", \"Mesenchymal\"])]"
   ]
  },
  {
   "cell_type": "code",
   "execution_count": 16,
   "metadata": {},
   "outputs": [
    {
     "name": "stderr",
     "output_type": "stream",
     "text": [
      "WARNING: saving figure to file figures/dotplot_CD2_CD58_expression.png\n"
     ]
    },
    {
     "data": {
      "image/png": "[encoded data removed]",
      "text/plain": [
       "<Figure size 134.64x576 with 4 Axes>"
      ]
     },
     "metadata": {
      "needs_background": "light"
     },
     "output_type": "display_data"
    }
   ],
   "source": [
    "celltype_genes=['SLCO2A1']\n",
    "sc.pl.dotplot(adata_sub, celltype_genes, groupby='celltype_label',\n",
    "                  gene_symbols='gene_symbols', \n",
    "              dendrogram=False,\n",
    "                  standard_scale='var',\n",
    "             save=\"CD2_CD58_expression.png\")"
   ]
  },
  {
   "cell_type": "code",
   "execution_count": null,
   "metadata": {},
   "outputs": [],
   "source": []
  }
 ],
 "metadata": {
  "kernelspec": {
   "display_name": "Python 3",
   "language": "python",
   "name": "python3"
  },
  "language_info": {
   "codemirror_mode": {
    "name": "ipython",
    "version": 3
   },
   "file_extension": ".py",
   "mimetype": "text/x-python",
   "name": "python",
   "nbconvert_exporter": "python",
   "pygments_lexer": "ipython3",
   "version": "3.7.8"
  }
 },
 "nbformat": 4,
 "nbformat_minor": 4
}
