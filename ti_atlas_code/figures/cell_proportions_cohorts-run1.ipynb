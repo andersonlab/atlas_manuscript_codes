{
 "cells": [
  {
   "cell_type": "code",
   "execution_count": 1,
   "metadata": {},
   "outputs": [],
   "source": [
    "import argparse\n",
    "import scanpy as sc\n",
    "import plotnine as plt9\n",
    "import pandas as pd\n",
    "import numpy as np\n",
    "import matplotlib as plt\n",
    "import os\n",
    "%load_ext autoreload\n",
    "%autoreload 2\n",
    "import anndata\n",
    "import seaborn as sns\n",
    "import logging\n",
    "import scipy.stats\n",
    "import csv"
   ]
  },
  {
   "cell_type": "code",
   "execution_count": 2,
   "metadata": {},
   "outputs": [],
   "source": [
    "import scanpy as sc\n",
    "import pandas as pd\n",
    "import matplotlib.pyplot as plt\n",
    "import seaborn as sns"
   ]
  },
  {
   "cell_type": "code",
   "execution_count": 3,
   "metadata": {},
   "outputs": [],
   "source": [
    "#for i in adata1.obs.keys():\n",
    "#    print(i)"
   ]
  },
  {
   "cell_type": "code",
   "execution_count": 4,
   "metadata": {},
   "outputs": [],
   "source": [
    "#adata1.obs['total_counts']"
   ]
  },
  {
   "cell_type": "code",
   "execution_count": 3,
   "metadata": {},
   "outputs": [],
   "source": [
    "#fpath1=\"/home/ubuntu/ubuntu/sc_ibd_project/ti_atlas/data/gut-freeze003/ti-cd_healthy-auto_processed_v001-labels_freeze_v003/analysis/adata/cell_prob_filter_0pt5/ti-cd_healthy-auto_processed_v001-labels_freeze_v003-old_samples-processed.h5ad\"\n",
    "#adata1=sc.read(fpath1)  \n",
    "\n",
    "#fpath2=\"/home/ubuntu/ubuntu/sc_ibd_project/ti_atlas/data/gut-freeze003/ti-cd_healthy-auto_processed_v001-labels_freeze_v003/analysis/adata/cell_prob_filter_0pt5/ti-cd_healthy-auto_processed_v001-labels_freeze_v003-new_samples-processed.h5ad\"\n",
    "#adata2=sc.read(fpath2) \n",
    "\n",
    "fpath1=\"/home/ubuntu/ubuntu/sc_ibd_project/ti_atlas/data/gut-freeze003/auto-annot-121/adata/anderson_ti_freeze003_001-MT_100-cohort_Discovery.h5ad\"\n",
    "adata1=sc.read(fpath1)  \n",
    "\n",
    "fpath2=\"/home/ubuntu/ubuntu/sc_ibd_project/ti_atlas/data/gut-freeze003/auto-annot-121/adata/anderson_ti_freeze003_001-MT_100-cohort_Replication.h5ad\"\n",
    "adata2=sc.read(fpath2) "
   ]
  },
  {
   "cell_type": "code",
   "execution_count": 3,
   "metadata": {},
   "outputs": [],
   "source": [
    "#fpath3=\"/home/ubuntu/ubuntu/sc_ibd_project/ti_atlas/data/gut-freeze003/ti-cd_healthy-auto_processed_v001-labels_freeze_v003/analysis/adata/cell_prob_filter_0pt5/ti-cd_healthy-auto_processed_v001-labels_freeze_v003-all_samples-processed.h5ad\"\n",
    "#adata3=sc.read(fpath3) \n",
    "fpath3=\"/home/ubuntu/ubuntu/sc_ibd_project/ti_atlas/data/gut-freeze003/auto-annot-121/adata/anderson_ti_freeze003_001-MT_100-cohort_Full.h5ad\"\n",
    "adata3=sc.read(fpath3) "
   ]
  },
  {
   "cell_type": "code",
   "execution_count": 13,
   "metadata": {},
   "outputs": [],
   "source": [
    "adata_epi=adata3[adata3.obs['label__machine'].isin(['Enterocyte_middle_villus_1',\n",
    "       'Enterocyte_middle_villus_2',\n",
    "       'Enterocyte_precursor_crypt_OLFM4plus_KRT20plusplus',\n",
    "       'Enterocyte_progenitor_crypt_OLFM4plusplus_KRT20plus_1',\n",
    "       'Enterocyte_progenitor_crypt_OLFM4plusplus_KRT20plus_2',\n",
    "       'Enterocyte_top_villus', 'Enterocytes_BEST4',\n",
    "       'Fibroblast_slash_myofibroblasts', 'Goblet_cell_crypt_MKI67plus',\n",
    "       'Goblet_cell_middle_villus', 'Goblet_cell_top_villus'])] #'Endocrine_cell', 'Endothelial_cell', "
   ]
  },
  {
   "cell_type": "code",
   "execution_count": 14,
   "metadata": {},
   "outputs": [
    {
     "name": "stderr",
     "output_type": "stream",
     "text": [
      "WARNING: saving figure to file figures/dotplot_SLCO2A1_SCGN.png\n"
     ]
    },
    {
     "data": {
      "image/png": "[encoded data removed]",
      "text/plain": [
       "<Figure size 161.28x349.2 with 4 Axes>"
      ]
     },
     "metadata": {
      "needs_background": "light"
     },
     "output_type": "display_data"
    }
   ],
   "source": [
    "out=[\"SLCO2A1\", \"SCGN\"]\n",
    "sc.pl.dotplot(adata_epi, out, groupby='label__machine',\n",
    "                  gene_symbols='gene_symbols', \n",
    "              dendrogram=False,\n",
    "                  standard_scale='var', save=\"SLCO2A1_SCGN.png\")"
   ]
  },
  {
   "cell_type": "code",
   "execution_count": null,
   "metadata": {},
   "outputs": [],
   "source": []
  },
  {
   "cell_type": "code",
   "execution_count": 7,
   "metadata": {},
   "outputs": [],
   "source": [
    "#for i in adata1.obs.keys():\n",
    "#    print(i)"
   ]
  },
  {
   "cell_type": "code",
   "execution_count": 8,
   "metadata": {},
   "outputs": [],
   "source": [
    "df1 = adata1.obs[['sanger_sample_id','disease_status']].drop_duplicates().reset_index(drop=True)\n",
    "df = adata1.obs[['sanger_sample_id','disease_status', 'label__machine']]\n",
    "df = df.groupby(['label__machine','sanger_sample_id']).size().reset_index(name='nr_cells')\n",
    "df1=df1.merge(df, how='inner', on='sanger_sample_id')\n",
    "df1.to_csv(\"/home/ubuntu/ubuntu/sc_ibd_project/ti_atlas/manuscript/figures/data/cell_proportions_discovery.csv\", sep=\",\", index=False) "
   ]
  },
  {
   "cell_type": "code",
   "execution_count": 9,
   "metadata": {},
   "outputs": [],
   "source": [
    "df2 = adata2.obs[['sanger_sample_id','disease_status']].drop_duplicates().reset_index(drop=True)\n",
    "df = adata2.obs[['sanger_sample_id','disease_status', 'label__machine']]\n",
    "df = df.groupby(['label__machine','sanger_sample_id']).size().reset_index(name='nr_cells')\n",
    "df2=df2.merge(df, how='inner', on='sanger_sample_id')\n",
    "df2.to_csv(\"/home/ubuntu/ubuntu/sc_ibd_project/ti_atlas/manuscript/figures/data/cell_proportions_replication.csv\", sep=\",\", index=False) "
   ]
  },
  {
   "cell_type": "code",
   "execution_count": 10,
   "metadata": {},
   "outputs": [],
   "source": [
    "df3 = adata3.obs[['sanger_sample_id','disease_status']].drop_duplicates().reset_index(drop=True)\n",
    "df = adata3.obs[['sanger_sample_id','disease_status', 'label__machine']]\n",
    "df = df.groupby(['label__machine','sanger_sample_id']).size().reset_index(name='nr_cells')\n",
    "df3=df3.merge(df, how='inner', on='sanger_sample_id')\n",
    "df3.to_csv(\"/home/ubuntu/ubuntu/sc_ibd_project/ti_atlas/manuscript/figures/data/cell_proportions_full.csv\", sep=\",\", index=False) "
   ]
  },
  {
   "cell_type": "code",
   "execution_count": 97,
   "metadata": {},
   "outputs": [],
   "source": [
    "#gplt = plt9.ggplot(df1, plt9.aes(x='cell_type', y='fraction_cells_condition', fill = 'disease_status'))  + plt9.ylab(\"Fraction of cells across samples within condition (%)\")\n",
    "#gplt = gplt + plt9.theme_bw() #+ plt9.scale_fill_manual(values=palette) \n",
    "#gplt = gplt + plt9.geom_errorbar(plt9.aes(x='cell_type', y='fraction_cells_condition', fill = 'disease_status'), ymin=np.log10(0), ymax=np.log10(2.4)) \n",
    "#gplt = gplt + plt9.coord_flip() #+ plt9.guides(colour=plt9.guide_legend(ncol=1, override_aes={\"size\": 15}, title_vjust = 1))\n",
    "#gplt = gplt + plt9.theme(text=plt9.element_text(size=15))+ plt9.theme(axis_title_y = plt9.element_blank())\n",
    "#gplt = gplt + plt9.labs(fill=\"Cell type\") + plt9.scale_y_log10() #+ plt9.xlab(\"Fraction (%)\")\n",
    "#gplt"
   ]
  },
  {
   "cell_type": "code",
   "execution_count": 15,
   "metadata": {},
   "outputs": [],
   "source": [
    "df11=adata1.obs[['sanger_sample_id', 'disease_status']].drop_duplicates()\n",
    "df22=adata2.obs[['sanger_sample_id', 'disease_status']].drop_duplicates()\n",
    "df33=adata3.obs[['sanger_sample_id', 'disease_status']].drop_duplicates()"
   ]
  },
  {
   "cell_type": "code",
   "execution_count": 16,
   "metadata": {},
   "outputs": [],
   "source": [
    "df1 = adata1.obs[['sanger_sample_id', \"disease_status\"]].groupby(['sanger_sample_id']).size().reset_index(name='nr_cells')\n",
    "df2 = adata2.obs[['sanger_sample_id', \"disease_status\"]].groupby(['sanger_sample_id']).size().reset_index(name='nr_cells')\n",
    "\n",
    "df1=df1.join(df11.set_index('sanger_sample_id'), on='sanger_sample_id')\n",
    "df2=df2.join(df22.set_index('sanger_sample_id'), on='sanger_sample_id')"
   ]
  },
  {
   "cell_type": "code",
   "execution_count": 20,
   "metadata": {},
   "outputs": [
    {
     "data": {
      "text/html": [
       "<div>\n",
       "<style scoped>\n",
       "    .dataframe tbody tr th:only-of-type {\n",
       "        vertical-align: middle;\n",
       "    }\n",
       "\n",
       "    .dataframe tbody tr th {\n",
       "        vertical-align: top;\n",
       "    }\n",
       "\n",
       "    .dataframe thead th {\n",
       "        text-align: right;\n",
       "    }\n",
       "</style>\n",
       "<table border=\"1\" class=\"dataframe\">\n",
       "  <thead>\n",
       "    <tr style=\"text-align: right;\">\n",
       "      <th></th>\n",
       "      <th>sanger_sample_id</th>\n",
       "      <th>nr_cells</th>\n",
       "      <th>disease_status</th>\n",
       "    </tr>\n",
       "  </thead>\n",
       "  <tbody>\n",
       "    <tr>\n",
       "      <th>0</th>\n",
       "      <td>5892STDY8039553</td>\n",
       "      <td>8236</td>\n",
       "      <td>cd</td>\n",
       "    </tr>\n",
       "    <tr>\n",
       "      <th>1</th>\n",
       "      <td>5892STDY8039649</td>\n",
       "      <td>4357</td>\n",
       "      <td>cd</td>\n",
       "    </tr>\n",
       "    <tr>\n",
       "      <th>2</th>\n",
       "      <td>5892STDY8039745</td>\n",
       "      <td>7647</td>\n",
       "      <td>cd</td>\n",
       "    </tr>\n",
       "    <tr>\n",
       "      <th>3</th>\n",
       "      <td>5892STDY8039841</td>\n",
       "      <td>3670</td>\n",
       "      <td>cd</td>\n",
       "    </tr>\n",
       "    <tr>\n",
       "      <th>4</th>\n",
       "      <td>5892STDY8356878</td>\n",
       "      <td>7939</td>\n",
       "      <td>cd</td>\n",
       "    </tr>\n",
       "    <tr>\n",
       "      <th>...</th>\n",
       "      <td>...</td>\n",
       "      <td>...</td>\n",
       "      <td>...</td>\n",
       "    </tr>\n",
       "    <tr>\n",
       "      <th>65</th>\n",
       "      <td>OTARscRNA11765498</td>\n",
       "      <td>2511</td>\n",
       "      <td>healthy</td>\n",
       "    </tr>\n",
       "    <tr>\n",
       "      <th>66</th>\n",
       "      <td>OTARscRNA12147503</td>\n",
       "      <td>8826</td>\n",
       "      <td>healthy</td>\n",
       "    </tr>\n",
       "    <tr>\n",
       "      <th>67</th>\n",
       "      <td>OTARscRNA12147505</td>\n",
       "      <td>3880</td>\n",
       "      <td>healthy</td>\n",
       "    </tr>\n",
       "    <tr>\n",
       "      <th>68</th>\n",
       "      <td>OTARscRNA12147507</td>\n",
       "      <td>5542</td>\n",
       "      <td>cd</td>\n",
       "    </tr>\n",
       "    <tr>\n",
       "      <th>69</th>\n",
       "      <td>Pilot_study_of_dissociation_methods_for_human_...</td>\n",
       "      <td>5436</td>\n",
       "      <td>cd</td>\n",
       "    </tr>\n",
       "  </tbody>\n",
       "</table>\n",
       "<p>121 rows × 3 columns</p>\n",
       "</div>"
      ],
      "text/plain": [
       "                                     sanger_sample_id  nr_cells disease_status\n",
       "0                                     5892STDY8039553      8236             cd\n",
       "1                                     5892STDY8039649      4357             cd\n",
       "2                                     5892STDY8039745      7647             cd\n",
       "3                                     5892STDY8039841      3670             cd\n",
       "4                                     5892STDY8356878      7939             cd\n",
       "..                                                ...       ...            ...\n",
       "65                                  OTARscRNA11765498      2511        healthy\n",
       "66                                  OTARscRNA12147503      8826        healthy\n",
       "67                                  OTARscRNA12147505      3880        healthy\n",
       "68                                  OTARscRNA12147507      5542             cd\n",
       "69  Pilot_study_of_dissociation_methods_for_human_...      5436             cd\n",
       "\n",
       "[121 rows x 3 columns]"
      ]
     },
     "execution_count": 20,
     "metadata": {},
     "output_type": "execute_result"
    }
   ],
   "source": [
    "result = pd.concat([df1,df2])\n",
    "result"
   ]
  },
  {
   "cell_type": "code",
   "execution_count": 21,
   "metadata": {},
   "outputs": [
    {
     "data": {
      "text/html": [
       "<div>\n",
       "<style scoped>\n",
       "    .dataframe tbody tr th:only-of-type {\n",
       "        vertical-align: middle;\n",
       "    }\n",
       "\n",
       "    .dataframe tbody tr th {\n",
       "        vertical-align: top;\n",
       "    }\n",
       "\n",
       "    .dataframe thead th {\n",
       "        text-align: right;\n",
       "    }\n",
       "</style>\n",
       "<table border=\"1\" class=\"dataframe\">\n",
       "  <thead>\n",
       "    <tr style=\"text-align: right;\">\n",
       "      <th></th>\n",
       "      <th>nr_cells</th>\n",
       "    </tr>\n",
       "    <tr>\n",
       "      <th>disease_status</th>\n",
       "      <th></th>\n",
       "    </tr>\n",
       "  </thead>\n",
       "  <tbody>\n",
       "    <tr>\n",
       "      <th>cd</th>\n",
       "      <td>5151.183673</td>\n",
       "    </tr>\n",
       "    <tr>\n",
       "      <th>healthy</th>\n",
       "      <td>2632.000000</td>\n",
       "    </tr>\n",
       "  </tbody>\n",
       "</table>\n",
       "</div>"
      ],
      "text/plain": [
       "                   nr_cells\n",
       "disease_status             \n",
       "cd              5151.183673\n",
       "healthy         2632.000000"
      ]
     },
     "execution_count": 21,
     "metadata": {},
     "output_type": "execute_result"
    }
   ],
   "source": [
    "result.groupby('disease_status').agg('mean')"
   ]
  },
  {
   "cell_type": "code",
   "execution_count": 18,
   "metadata": {},
   "outputs": [
    {
     "data": {
      "text/html": [
       "<div>\n",
       "<style scoped>\n",
       "    .dataframe tbody tr th:only-of-type {\n",
       "        vertical-align: middle;\n",
       "    }\n",
       "\n",
       "    .dataframe tbody tr th {\n",
       "        vertical-align: top;\n",
       "    }\n",
       "\n",
       "    .dataframe thead th {\n",
       "        text-align: right;\n",
       "    }\n",
       "</style>\n",
       "<table border=\"1\" class=\"dataframe\">\n",
       "  <thead>\n",
       "    <tr style=\"text-align: right;\">\n",
       "      <th></th>\n",
       "      <th>nr_cells</th>\n",
       "    </tr>\n",
       "    <tr>\n",
       "      <th>disease_status</th>\n",
       "      <th></th>\n",
       "    </tr>\n",
       "  </thead>\n",
       "  <tbody>\n",
       "    <tr>\n",
       "      <th>cd</th>\n",
       "      <td>119711</td>\n",
       "    </tr>\n",
       "    <tr>\n",
       "      <th>healthy</th>\n",
       "      <td>67650</td>\n",
       "    </tr>\n",
       "  </tbody>\n",
       "</table>\n",
       "</div>"
      ],
      "text/plain": [
       "                nr_cells\n",
       "disease_status          \n",
       "cd                119711\n",
       "healthy            67650"
      ]
     },
     "execution_count": 18,
     "metadata": {},
     "output_type": "execute_result"
    }
   ],
   "source": [
    "v=adata1\n",
    "df = v.obs[['sanger_sample_id', \"disease_status\"]]\n",
    "df1 = df.groupby(['sanger_sample_id']).size().reset_index(name='nr_cells')\n",
    "df=df.drop_duplicates()\n",
    "df=df.join(df1.set_index('sanger_sample_id'), on='sanger_sample_id')\n",
    "df.groupby('disease_status').agg('sum')"
   ]
  },
  {
   "cell_type": "code",
   "execution_count": 19,
   "metadata": {},
   "outputs": [
    {
     "data": {
      "text/html": [
       "<div>\n",
       "<style scoped>\n",
       "    .dataframe tbody tr th:only-of-type {\n",
       "        vertical-align: middle;\n",
       "    }\n",
       "\n",
       "    .dataframe tbody tr th {\n",
       "        vertical-align: top;\n",
       "    }\n",
       "\n",
       "    .dataframe thead th {\n",
       "        text-align: right;\n",
       "    }\n",
       "</style>\n",
       "<table border=\"1\" class=\"dataframe\">\n",
       "  <thead>\n",
       "    <tr style=\"text-align: right;\">\n",
       "      <th></th>\n",
       "      <th>nr_cells</th>\n",
       "    </tr>\n",
       "    <tr>\n",
       "      <th>disease_status</th>\n",
       "      <th></th>\n",
       "    </tr>\n",
       "  </thead>\n",
       "  <tbody>\n",
       "    <tr>\n",
       "      <th>cd</th>\n",
       "      <td>132697</td>\n",
       "    </tr>\n",
       "    <tr>\n",
       "      <th>healthy</th>\n",
       "      <td>121854</td>\n",
       "    </tr>\n",
       "  </tbody>\n",
       "</table>\n",
       "</div>"
      ],
      "text/plain": [
       "                nr_cells\n",
       "disease_status          \n",
       "cd                132697\n",
       "healthy           121854"
      ]
     },
     "execution_count": 19,
     "metadata": {},
     "output_type": "execute_result"
    }
   ],
   "source": [
    "v=adata2\n",
    "df = v.obs[['sanger_sample_id', \"disease_status\"]]\n",
    "df1 = df.groupby(['sanger_sample_id']).size().reset_index(name='nr_cells')\n",
    "df=df.drop_duplicates()\n",
    "df=df.join(df1.set_index('sanger_sample_id'), on='sanger_sample_id')\n",
    "df.groupby('disease_status').agg('sum')"
   ]
  },
  {
   "cell_type": "code",
   "execution_count": 20,
   "metadata": {},
   "outputs": [
    {
     "data": {
      "text/html": [
       "<div>\n",
       "<style scoped>\n",
       "    .dataframe tbody tr th:only-of-type {\n",
       "        vertical-align: middle;\n",
       "    }\n",
       "\n",
       "    .dataframe tbody tr th {\n",
       "        vertical-align: top;\n",
       "    }\n",
       "\n",
       "    .dataframe thead th {\n",
       "        text-align: right;\n",
       "    }\n",
       "</style>\n",
       "<table border=\"1\" class=\"dataframe\">\n",
       "  <thead>\n",
       "    <tr style=\"text-align: right;\">\n",
       "      <th></th>\n",
       "      <th>nr_cells</th>\n",
       "    </tr>\n",
       "    <tr>\n",
       "      <th>disease_status</th>\n",
       "      <th></th>\n",
       "    </tr>\n",
       "  </thead>\n",
       "  <tbody>\n",
       "    <tr>\n",
       "      <th>cd</th>\n",
       "      <td>252408</td>\n",
       "    </tr>\n",
       "    <tr>\n",
       "      <th>healthy</th>\n",
       "      <td>189504</td>\n",
       "    </tr>\n",
       "  </tbody>\n",
       "</table>\n",
       "</div>"
      ],
      "text/plain": [
       "                nr_cells\n",
       "disease_status          \n",
       "cd                252408\n",
       "healthy           189504"
      ]
     },
     "execution_count": 20,
     "metadata": {},
     "output_type": "execute_result"
    }
   ],
   "source": [
    "v=adata3\n",
    "df = v.obs[['sanger_sample_id', \"disease_status\"]]\n",
    "df1 = df.groupby(['sanger_sample_id']).size().reset_index(name='nr_cells')\n",
    "df=df.drop_duplicates()\n",
    "df=df.join(df1.set_index('sanger_sample_id'), on='sanger_sample_id')\n",
    "df.groupby('disease_status').agg('sum')"
   ]
  },
  {
   "cell_type": "code",
   "execution_count": 21,
   "metadata": {},
   "outputs": [
    {
     "data": {
      "text/plain": [
       "251"
      ]
     },
     "execution_count": 21,
     "metadata": {},
     "output_type": "execute_result"
    }
   ],
   "source": [
    "119+132"
   ]
  },
  {
   "cell_type": "code",
   "execution_count": 22,
   "metadata": {},
   "outputs": [
    {
     "data": {
      "text/plain": [
       "188"
      ]
     },
     "execution_count": 22,
     "metadata": {},
     "output_type": "execute_result"
    }
   ],
   "source": [
    "67+121"
   ]
  },
  {
   "cell_type": "code",
   "execution_count": null,
   "metadata": {},
   "outputs": [],
   "source": []
  }
 ],
 "metadata": {
  "kernelspec": {
   "display_name": "cellpymc",
   "language": "python",
   "name": "cellpymc"
  },
  "language_info": {
   "codemirror_mode": {
    "name": "ipython",
    "version": 3
   },
   "file_extension": ".py",
   "mimetype": "text/x-python",
   "name": "python",
   "nbconvert_exporter": "python",
   "pygments_lexer": "ipython3",
   "version": "3.7.10"
  }
 },
 "nbformat": 4,
 "nbformat_minor": 4
}
